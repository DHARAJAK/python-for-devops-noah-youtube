{
  "nbformat": 4,
  "nbformat_minor": 0,
  "metadata": {
    "colab": {
      "provenance": [],
      "authorship_tag": "ABX9TyOSvw3aTV5TVOze67/XFbd1",
      "include_colab_link": true
    },
    "kernelspec": {
      "name": "python3",
      "display_name": "Python 3"
    },
    "language_info": {
      "name": "python"
    }
  },
  "cells": [
    {
      "cell_type": "markdown",
      "metadata": {
        "id": "view-in-github",
        "colab_type": "text"
      },
      "source": [
        "<a href=\"https://colab.research.google.com/github/DHARAJAK/python-for-devops-noah-youtube/blob/main/python_for_devops_noah_youtube.ipynb\" target=\"_parent\"><img src=\"https://colab.research.google.com/assets/colab-badge.svg\" alt=\"Open In Colab\"/></a>"
      ]
    },
    {
      "cell_type": "markdown",
      "source": [
        "## Introduction to Python"
      ],
      "metadata": {
        "id": "6fs1CRT86E04"
      }
    },
    {
      "cell_type": "markdown",
      "source": [
        "### Statements in python\n"
      ],
      "metadata": {
        "id": "1x1EakPR6s2Q"
      }
    },
    {
      "cell_type": "code",
      "execution_count": 1,
      "metadata": {
        "colab": {
          "base_uri": "https://localhost:8080/"
        },
        "id": "POi6DicB52aR",
        "outputId": "9e0e2aec-c418-4137-f0c6-ae20b62c82d2"
      },
      "outputs": [
        {
          "output_type": "stream",
          "name": "stdout",
          "text": [
            "Hello World\n"
          ]
        }
      ],
      "source": [
        "print(\"Hello World\")"
      ]
    },
    {
      "cell_type": "code",
      "source": [
        "name = \"bob\"\n",
        "print(f\"hello {name}\")"
      ],
      "metadata": {
        "colab": {
          "base_uri": "https://localhost:8080/"
        },
        "id": "1T0UGivW66mi",
        "outputId": "c9a51232-4fd1-4e6b-a407-f5be9710b696"
      },
      "execution_count": 2,
      "outputs": [
        {
          "output_type": "stream",
          "name": "stdout",
          "text": [
            "hello bob\n"
          ]
        }
      ]
    },
    {
      "cell_type": "markdown",
      "source": [
        "### DataStructures: Lists and Dictionaries"
      ],
      "metadata": {
        "id": "hRNhKJAP7Iw0"
      }
    },
    {
      "cell_type": "code",
      "source": [
        "fruit = [\"apple\",\"peer\",\"strawberr\"]"
      ],
      "metadata": {
        "id": "XOVQjJC87BNt"
      },
      "execution_count": 3,
      "outputs": []
    },
    {
      "cell_type": "code",
      "source": [
        "type[fruit]"
      ],
      "metadata": {
        "colab": {
          "base_uri": "https://localhost:8080/"
        },
        "id": "muft27PUEEVT",
        "outputId": "cc652745-75d5-417e-d2f9-eaafd9f46b66"
      },
      "execution_count": 4,
      "outputs": [
        {
          "output_type": "execute_result",
          "data": {
            "text/plain": [
              "type[['apple', 'peer', 'strawberr']]"
            ]
          },
          "metadata": {},
          "execution_count": 4
        }
      ]
    },
    {
      "cell_type": "code",
      "source": [
        "fruit[0]"
      ],
      "metadata": {
        "colab": {
          "base_uri": "https://localhost:8080/",
          "height": 35
        },
        "id": "QhfA_92EEF7R",
        "outputId": "0ee0d01c-f0ad-4767-8a21-4c97bacd368f"
      },
      "execution_count": 5,
      "outputs": [
        {
          "output_type": "execute_result",
          "data": {
            "text/plain": [
              "'apple'"
            ],
            "application/vnd.google.colaboratory.intrinsic+json": {
              "type": "string"
            }
          },
          "metadata": {},
          "execution_count": 5
        }
      ]
    },
    {
      "cell_type": "code",
      "source": [
        "fruit[:-1]"
      ],
      "metadata": {
        "colab": {
          "base_uri": "https://localhost:8080/"
        },
        "id": "BeuGSDPREJwi",
        "outputId": "69f01329-eee0-456c-d625-eabce2465568"
      },
      "execution_count": 6,
      "outputs": [
        {
          "output_type": "execute_result",
          "data": {
            "text/plain": [
              "['apple', 'peer']"
            ]
          },
          "metadata": {},
          "execution_count": 6
        }
      ]
    },
    {
      "cell_type": "code",
      "source": [
        "for my_fruit in fruit:\n",
        "    print(f\"This my favorit fruit{my_fruit}\")"
      ],
      "metadata": {
        "colab": {
          "base_uri": "https://localhost:8080/"
        },
        "id": "KEk0SmjFEMH7",
        "outputId": "15999316-63da-40e7-80b4-8932c261aa23"
      },
      "execution_count": 7,
      "outputs": [
        {
          "output_type": "stream",
          "name": "stdout",
          "text": [
            "This my favorit fruitapple\n",
            "This my favorit fruitpeer\n",
            "This my favorit fruitstrawberr\n"
          ]
        }
      ]
    },
    {
      "cell_type": "markdown",
      "source": [
        "## Dictionary"
      ],
      "metadata": {
        "id": "GdNCUmSGEacC"
      }
    },
    {
      "cell_type": "code",
      "source": [
        "meal = {\"breakfast\":\"black cofee\", \"lund\":\"salad\", \"dinner\":\"rice and bean\"}"
      ],
      "metadata": {
        "id": "AIfhrW5SEVC9"
      },
      "execution_count": 9,
      "outputs": []
    },
    {
      "cell_type": "code",
      "source": [
        "meal.keys()"
      ],
      "metadata": {
        "colab": {
          "base_uri": "https://localhost:8080/"
        },
        "id": "mYKGfWFOEji_",
        "outputId": "12d913f8-479d-4c2a-9ea4-ec8afe76db51"
      },
      "execution_count": 10,
      "outputs": [
        {
          "output_type": "execute_result",
          "data": {
            "text/plain": [
              "dict_keys(['breakfast', 'lund', 'dinner'])"
            ]
          },
          "metadata": {},
          "execution_count": 10
        }
      ]
    },
    {
      "cell_type": "code",
      "source": [
        "meal.values()"
      ],
      "metadata": {
        "colab": {
          "base_uri": "https://localhost:8080/"
        },
        "id": "x4uqwaKtEn8m",
        "outputId": "76f2a2fa-6e5b-498b-9042-e5057814f59e"
      },
      "execution_count": 11,
      "outputs": [
        {
          "output_type": "execute_result",
          "data": {
            "text/plain": [
              "dict_values(['black cofee', 'salad', 'rice and bean'])"
            ]
          },
          "metadata": {},
          "execution_count": 11
        }
      ]
    },
    {
      "cell_type": "code",
      "source": [
        "for mean_name, meal_item in meal.items():\n",
        "    print(f\"This meal {mean_name} is when I like to consume {meal_item}\")"
      ],
      "metadata": {
        "colab": {
          "base_uri": "https://localhost:8080/"
        },
        "id": "8XoSg_hFEtn3",
        "outputId": "3a38d8fc-afe3-4159-c6d4-253d7c78d844"
      },
      "execution_count": 14,
      "outputs": [
        {
          "output_type": "stream",
          "name": "stdout",
          "text": [
            "This meal breakfast is when I like to consume black cofee\n",
            "This meal lund is when I like to consume salad\n",
            "This meal dinner is when I like to consume rice and bean\n"
          ]
        }
      ]
    },
    {
      "cell_type": "code",
      "source": [],
      "metadata": {
        "id": "EjtKOB5yE0l_"
      },
      "execution_count": null,
      "outputs": []
    }
  ]
}